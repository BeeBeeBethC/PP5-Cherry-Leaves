{
 "cells": [
  {
   "cell_type": "markdown",
   "metadata": {},
   "source": [
    "# **Data Preparation**"
   ]
  },
  {
   "cell_type": "markdown",
   "metadata": {},
   "source": [
    "# Objectives\n",
    "\n",
    "* Clean and remove non images.\n",
    "* Prepare the dataset for further processes.\n",
    "* Find average image shape for original images.\n",
    "* Resize the images from the datasets.\n",
    "* Split the datasets into Train, Validation and Test sets."
   ]
  },
  {
   "cell_type": "markdown",
   "metadata": {},
   "source": [
    "# Outputs"
   ]
  },
  {
   "cell_type": "markdown",
   "metadata": {},
   "source": [
    "Resized images from the datasets for further processing"
   ]
  },
  {
   "cell_type": "markdown",
   "metadata": {},
   "source": [
    "# Additional Comments"
   ]
  },
  {
   "cell_type": "markdown",
   "metadata": {},
   "source": [
    "* No Additional Comments"
   ]
  },
  {
   "cell_type": "code",
   "execution_count": 1,
   "metadata": {},
   "outputs": [],
   "source": [
    "import os\n",
    "import shutil\n",
    "import random\n",
    "import joblib\n",
    "import pandas as pd\n",
    "import numpy as np\n",
    "import seaborn as sns\n",
    "import matplotlib.pyplot as plt\n",
    "from matplotlib.image import imread\n",
    "sns.set_style(\"white\")"
   ]
  },
  {
   "cell_type": "code",
   "execution_count": 2,
   "metadata": {},
   "outputs": [],
   "source": [
    "cwd= os.getcwd()"
   ]
  },
  {
   "cell_type": "code",
   "execution_count": 4,
   "metadata": {},
   "outputs": [
    {
     "name": "stdout",
     "output_type": "stream",
     "text": [
      "You set a new current directory\n"
     ]
    }
   ],
   "source": [
    "os.chdir(os.path.dirname(cwd))\n",
    "print(\"You set a new current directory\")"
   ]
  },
  {
   "cell_type": "code",
   "execution_count": 5,
   "metadata": {},
   "outputs": [
    {
     "data": {
      "text/plain": [
       "'/workspaces/PP5-Cherry-Leaves'"
      ]
     },
     "execution_count": 5,
     "metadata": {},
     "output_type": "execute_result"
    }
   ],
   "source": [
    "current_dir = os.getcwd()\n",
    "current_dir"
   ]
  },
  {
   "cell_type": "markdown",
   "metadata": {},
   "source": [
    "# Checks and Removes Corrupt Images and Image Types"
   ]
  },
  {
   "cell_type": "code",
   "execution_count": 1,
   "metadata": {},
   "outputs": [
    {
     "name": "stderr",
     "output_type": "stream",
     "text": [
      "2025-03-27 13:04:05.883814: I tensorflow/core/util/port.cc:113] oneDNN custom operations are on. You may see slightly different numerical results due to floating-point round-off errors from different computation orders. To turn them off, set the environment variable `TF_ENABLE_ONEDNN_OPTS=0`.\n",
      "2025-03-27 13:04:07.505536: I tensorflow/core/platform/cpu_feature_guard.cc:210] This TensorFlow binary is optimized to use available CPU instructions in performance-critical operations.\n",
      "To enable the following instructions: AVX2 AVX512F AVX512_VNNI FMA, in other operations, rebuild TensorFlow with the appropriate compiler flags.\n"
     ]
    },
    {
     "name": "stdout",
     "output_type": "stream",
     "text": [
      "Folder: powdery_mildew - Valid Images: 2104, Removed: 0\n",
      "Folder: healthy - Valid Images: 2104, Removed: 0\n"
     ]
    }
   ],
   "source": [
    "import os\n",
    "import tensorflow as tf\n",
    "\n",
    "def remove_invalid_images(my_data_dir):\n",
    "    image_extensions = ('.png', '.jpg', '.jpeg')\n",
    "    folders = os.listdir(my_data_dir)\n",
    "\n",
    "    for folder in folders:\n",
    "        folder_path = os.path.join(my_data_dir, folder)\n",
    "        \n",
    "        if not os.path.isdir(folder_path):  \n",
    "            continue  # Skip if not a folder\n",
    "\n",
    "        i, j = 0, 0  # Counters\n",
    "\n",
    "        for file_name in os.listdir(folder_path):\n",
    "            file_path = os.path.join(folder_path, file_name)\n",
    "\n",
    "            if os.path.isfile(file_path):\n",
    "                if not file_name.lower().endswith(image_extensions):  \n",
    "                    os.remove(file_path)  # Remove non-image files\n",
    "                    i += 1\n",
    "                else:\n",
    "                    try:\n",
    "                        # Try opening with TensorFlow to verify it's an actual image\n",
    "                        img = tf.io.read_file(file_path)\n",
    "                        img = tf.io.decode_image(img, channels=3)\n",
    "                        j += 1  # Valid image\n",
    "                    except Exception as e:\n",
    "                        print(f\"Removing corrupted image: {file_path} - Error: {str(e)}\")\n",
    "                        os.remove(file_path)\n",
    "                        i += 1\n",
    "\n",
    "        print(f\"Folder: {folder} - Valid Images: {j}, Removed: {i}\")\n",
    "\n",
    "# Example usage:\n",
    "data_dir = '/workspaces/PP5-Cherry-Leaves/inputs/leaves_dataset/cherry-leaves'\n",
    "remove_invalid_images(data_dir)"
   ]
  },
  {
   "cell_type": "code",
   "execution_count": 2,
   "metadata": {},
   "outputs": [
    {
     "name": "stdout",
     "output_type": "stream",
     "text": [
      "Found 4208 images belonging to 2 classes.\n",
      "(10, 100, 100, 3)\n"
     ]
    }
   ],
   "source": [
    "from tensorflow.keras.preprocessing.image import ImageDataGenerator\n",
    "\n",
    "# Create an ImageDataGenerator instance\n",
    "datagen = ImageDataGenerator(rescale=1./255)  # Normalization (optional)\n",
    "\n",
    "# Load images from a directory and resize them to 100x100\n",
    "data_generator = datagen.flow_from_directory(\n",
    "    '/workspaces/PP5-Cherry-Leaves/inputs/leaves_dataset/cherry-leaves',  # Replace with your image directory\n",
    "    target_size=(100, 100),  # Resize to 100x100\n",
    "    batch_size=10,\n",
    "    class_mode='binary'  # Change based on your task (e.g., 'binary' for 2 classes)\n",
    ")\n",
    "\n",
    "# Fetch a batch of images and labels\n",
    "images, labels = next(data_generator)\n",
    "\n",
    "# Check the shape\n",
    "print(images.shape)  # Should be (batch_size, 100, 100, 3) for RGB images\n"
   ]
  },
  {
   "cell_type": "code",
   "execution_count": 4,
   "metadata": {},
   "outputs": [
    {
     "name": "stdout",
     "output_type": "stream",
     "text": [
      "Found 4208 images belonging to 3 classes.\n"
     ]
    },
    {
     "name": "stdout",
     "output_type": "stream",
     "text": [
      "Resized images saved to /workspaces/PP5-Cherry-Leaves/inputs/leaves_dataset/cherry-leaves/resized_images\n"
     ]
    }
   ],
   "source": [
    "import os\n",
    "from tensorflow.keras.preprocessing.image import ImageDataGenerator, array_to_img, img_to_array\n",
    "import numpy as np\n",
    "\n",
    "# Define source and destination directories\n",
    "source_dir = '/workspaces/PP5-Cherry-Leaves/inputs/leaves_dataset/cherry-leaves'  # Path to original images\n",
    "save_dir = '/workspaces/PP5-Cherry-Leaves/inputs/leaves_dataset/cherry-leaves/resized_images'  # Path where resized images will be saved\n",
    "\n",
    "# Create ImageDataGenerator for resizing\n",
    "datagen = ImageDataGenerator(rescale=1./255)  # Normalize the images, optional\n",
    "\n",
    "# Create the save directory if it doesn't exist\n",
    "if not os.path.exists(save_dir):\n",
    "    os.makedirs(save_dir)\n",
    "\n",
    "# Set up the generator with target size and batch size\n",
    "data_generator = datagen.flow_from_directory(\n",
    "    source_dir,\n",
    "    target_size=(100, 100),  # Resize to 100x100\n",
    "    batch_size=32,\n",
    "    class_mode='binary',  # Change to 'binary' for binary classification\n",
    "    shuffle=False  # So that we can process the images in order\n",
    ")\n",
    "\n",
    "# Subdirectories for each class\n",
    "for class_name in data_generator.class_indices:\n",
    "    class_dir = os.path.join(save_dir, class_name)\n",
    "    if not os.path.exists(class_dir):\n",
    "        os.makedirs(class_dir)\n",
    "\n",
    "\n",
    "# Iterate over the batches of images and save them\n",
    "batch_index = 0\n",
    "for batch in data_generator:\n",
    "    images, labels = batch\n",
    "    for i, img in enumerate(images):\n",
    "        # Convert the image array to a PIL image\n",
    "        pil_img = array_to_img(img)\n",
    "        \n",
    "        # Determine the class name based on the label\n",
    "        label = labels[i] \n",
    "        class_name = list(data_generator.class_indices.keys())[int(label)]\n",
    "        \n",
    "        # Create a filename\n",
    "        img_filename = f\"resized_image_{batch_index * data_generator.batch_size + i}.png\"\n",
    "        \n",
    "        # Save the image in the appropriate class subdirectory\n",
    "        pil_img.save(os.path.join(save_dir, class_name, img_filename))\n",
    "    \n",
    "    batch_index += 1\n",
    "\n",
    "    # If you want to stop after a certain number of batches (for testing, etc.)\n",
    "    if batch_index >= data_generator.samples // data_generator.batch_size:\n",
    "        break\n",
    "\n",
    "print(f\"Resized images saved to {save_dir}\")"
   ]
  }
 ],
 "metadata": {
  "kernelspec": {
   "display_name": "Python 3",
   "language": "python",
   "name": "python3"
  },
  "language_info": {
   "codemirror_mode": {
    "name": "ipython",
    "version": 3
   },
   "file_extension": ".py",
   "mimetype": "text/x-python",
   "name": "python",
   "nbconvert_exporter": "python",
   "pygments_lexer": "ipython3",
   "version": "3.12.1"
  }
 },
 "nbformat": 4,
 "nbformat_minor": 2
}
